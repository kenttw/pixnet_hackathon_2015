{
 "cells": [
  {
   "cell_type": "code",
   "execution_count": 1,
   "metadata": {
    "collapsed": false
   },
   "outputs": [],
   "source": [
    "from pyspark.mllib.feature import Word2Vec\n",
    "inp = sc.textFile('./data/new_parsed_no_spam.txt').map(lambda row: row.split(\" \"))\n",
    "word2vec = Word2Vec()\n",
    "model = word2vec.fit(inp)\n",
    "\n",
    "\n"
   ]
  },
  {
   "cell_type": "code",
   "execution_count": 40,
   "metadata": {
    "collapsed": false
   },
   "outputs": [
    {
     "name": "stdout",
     "output_type": "stream",
     "text": [
      "東京: 1.18777803778\n",
      "推薦: 1.11656354293\n",
      "必買: 1.08323397444\n",
      "旅遊: 1.05891576415\n",
      "山陰: 1.05645043889\n",
      "東北: 1.04155510524\n",
      "神戶: 1.02561015344\n",
      "台灣: 0.993828835598\n",
      "美食: 0.984189842676\n",
      "就愛: 0.980322926641\n",
      "飯店: 0.957075184706\n",
      "拉麵: 0.956561411643\n",
      "福岡: 0.953082275732\n",
      "日式料理: 0.951422935111\n",
      "朝市: 0.948065311087\n",
      "餐廳: 0.938072982109\n",
      "京都: 0.93258499751\n",
      "好吃: 0.922879541939\n",
      "食記: 0.919730581538\n",
      "必吃: 0.919680717883\n",
      "下午茶: 0.919585521245\n",
      "這次: 0.917045679669\n",
      "大阪: 0.916859809044\n",
      "這裡: 0.910393361699\n",
      "加減: 0.909452649157\n",
      "還有: 0.907198178092\n",
      "這家: 0.906389974387\n",
      "剉冰: 0.90531986755\n",
      "櫻花: 0.8925217884\n",
      "築地: 0.890627935035\n",
      "蛋餅: 0.887405922488\n",
      "海膽: 0.885562979105\n",
      "阿美: 0.88099761497\n",
      "橋站: 0.880638096249\n",
      "平價: 0.880240534331\n",
      "日本料理: 0.877964305381\n",
      "名城: 0.876845853879\n",
      "墾丁: 0.876662717659\n",
      "初訪: 0.875118942921\n",
      "介紹: 0.873670894645\n"
     ]
    }
   ],
   "source": [
    "be =(model.transform('必買') + model.transform('日本'))/2\n",
    "synonyms = model.findSynonyms(be, 40)\n",
    "for word, cosine_distance in synonyms:\n",
    "    print(\"{}: {}\".format(word.encode('utf-8'), cosine_distance))"
   ]
  },
  {
   "cell_type": "code",
   "execution_count": 3,
   "metadata": {
    "collapsed": false
   },
   "outputs": [
    {
     "name": "stdout",
     "output_type": "stream",
     "text": [
      "與 美白 相關的詞如下:\n",
      "潤色: 1.28060905206\n",
      "補水: 1.27818315833\n",
      "成份: 1.26776956215\n",
      "成分: 1.26437410409\n",
      "維他命: 1.24541643391\n",
      "含有: 1.24100393328\n",
      "潤澤: 1.23596198038\n",
      "保水: 1.22226269575\n",
      "隔離: 1.21888644503\n",
      "臉部: 1.21768383133\n",
      "洋甘菊: 1.19308921536\n",
      "急救: 1.1910989604\n",
      "乾性: 1.19087323193\n",
      "淡斑: 1.1904759335\n",
      "溫和: 1.18910400191\n",
      "敷面: 1.18898548689\n",
      "眼周: 1.18551661483\n",
      "萃取: 1.18483113105\n",
      "水分: 1.1816845932\n",
      "擦上: 1.18071791117\n",
      "胜肽: 1.1800106963\n",
      "緊實: 1.17942100039\n",
      "油水: 1.17599150011\n",
      "油性: 1.17445432689\n",
      "因子: 1.17072983999\n",
      "滋潤: 1.16789731488\n",
      "精油: 1.16768892914\n",
      "配方: 1.16697295493\n",
      "鎮定: 1.16639320133\n",
      "富含: 1.16538568868\n",
      "粉刺: 1.16489960408\n",
      "油脂: 1.16427688728\n",
      "功效: 1.16390773327\n",
      "按摩: 1.16283515716\n",
      "鼻頭: 1.1627303203\n",
      "敏感: 1.1619208432\n",
      "凝膠: 1.1619164936\n",
      "呵護: 1.16082090166\n",
      "黯沉: 1.16002288578\n",
      "攝取: 1.1600023121\n"
     ]
    }
   ],
   "source": [
    "keyword='美白'\n",
    "be =  model.transform(keyword) \n",
    "print '與 ' + keyword + \" 相關的詞如下:\" \n",
    "synonyms = model.findSynonyms(be,40)\n",
    "for word, cosine_distance in synonyms:\n",
    "    print(\"{}: {}\".format(word.encode('utf-8'), cosine_distance))"
   ]
  },
  {
   "cell_type": "code",
   "execution_count": 33,
   "metadata": {
    "collapsed": false
   },
   "outputs": [
    {
     "name": "stdout",
     "output_type": "stream",
     "text": [
      "201304\r\n"
     ]
    }
   ],
   "source": [
    "cat ./data/new_parsed_no_spam.txt | wc -l"
   ]
  },
  {
   "cell_type": "code",
   "execution_count": null,
   "metadata": {
    "collapsed": true
   },
   "outputs": [],
   "source": []
  }
 ],
 "metadata": {
  "kernelspec": {
   "display_name": "Python 2",
   "language": "python",
   "name": "python2"
  },
  "language_info": {
   "codemirror_mode": {
    "name": "ipython",
    "version": 2
   },
   "file_extension": ".py",
   "mimetype": "text/x-python",
   "name": "python",
   "nbconvert_exporter": "python",
   "pygments_lexer": "ipython2",
   "version": "2.7.3"
  }
 },
 "nbformat": 4,
 "nbformat_minor": 0
}
