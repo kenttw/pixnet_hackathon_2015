{
 "cells": [
  {
   "cell_type": "code",
   "execution_count": 1,
   "metadata": {
    "collapsed": false
   },
   "outputs": [
    {
     "name": "stdout",
     "output_type": "stream",
     "text": [
      "['/big/opt/spark-1.3.1/python/lib/py4j-0.8.2.1-src.zip', '/big/opt/spark-1.3.1/python', '', '/big/home/kent/git/pixnet_hackathon_2015', '/usr/lib/python2.7', '/usr/lib/python2.7/plat-linux2', '/usr/lib/python2.7/lib-tk', '/usr/lib/python2.7/lib-old', '/usr/lib/python2.7/lib-dynload', '/usr/local/lib/python2.7/dist-packages', '/usr/lib/python2.7/dist-packages', '/usr/lib/python2.7/dist-packages/PIL', '/usr/lib/python2.7/dist-packages/gtk-2.0', '/usr/lib/pymodules/python2.7', '/usr/local/lib/python2.7/dist-packages/IPython/extensions']\n",
      "Welcome to\n",
      "      ____              __\n",
      "     / __/__  ___ _____/ /__\n",
      "    _\\ \\/ _ \\/ _ `/ __/  '_/\n",
      "   /__ / .__/\\_,_/_/ /_/\\_\\   version 1.3.1\n",
      "      /_/\n",
      "\n",
      "Using Python version 2.7.3 (default, Mar 13 2014 11:03:55)\n",
      "SparkContext available as sc, HiveContext available as sqlContext.\n"
     ]
    }
   ],
   "source": [
    "import os\n",
    "import sys\n",
    "\n",
    "spark_home = os.environ.get('SPARK_HOME', None)\n",
    "if not spark_home:\n",
    "    raise ValueError('SPARK_HOME environment variable is not set')\n",
    "sys.path.insert(0, os.path.join(spark_home, 'python'))\n",
    "sys.path.insert(0, os.path.join(spark_home, 'python/lib/py4j-0.8.2.1-src.zip'))\n",
    "\n",
    "print sys.path\n",
    "\n",
    "execfile(os.path.join(spark_home, 'python/pyspark/shell.py'))\n",
    "\n",
    "\n"
   ]
  },
  {
   "cell_type": "code",
   "execution_count": null,
   "metadata": {
    "collapsed": true
   },
   "outputs": [],
   "source": [
    "from pyspark.mllib.feature import Word2Vec\n",
    "inp = sc.textFile('./data/new_parsed_cut_no_spam.txt').map(lambda row: row.split(\" \"))\n",
    "word2vec = Word2Vec()\n",
    "model = word2vec.fit(inp)\n",
    "\n"
   ]
  },
  {
   "cell_type": "code",
   "execution_count": 36,
   "metadata": {
    "collapsed": false
   },
   "outputs": [
    {
     "name": "stdout",
     "output_type": "stream",
     "text": [
      "必買: 0.738286793232\n",
      "力買: 0.683295488358\n",
      "餐廚: 0.648524045944\n",
      "東京: 0.645167469978\n",
      "樂敦: 0.641659617424\n",
      "台灣: 0.634186089039\n",
      "好買: 0.627507030964\n",
      "大阪必買: 0.617742180824\n",
      "伴手: 0.610240638256\n",
      "0404: 0.609920501709\n",
      "日本自由行: 0.607337296009\n",
      "SEGA: 0.60620868206\n",
      "Kiddy: 0.605992674828\n",
      "之倉: 0.60595202446\n",
      "日本藥妝: 0.599760353565\n",
      "店東: 0.598076224327\n",
      "千趣: 0.598060250282\n",
      "motherways: 0.595814466476\n",
      "二木: 0.594481945038\n",
      "上野: 0.59020280838\n",
      "韓國: 0.589045107365\n",
      "知縣: 0.58839571476\n",
      "晴空塔: 0.58571344614\n",
      "佛羅里達州: 0.5852034688\n",
      "關東: 0.582009375095\n",
      "当地: 0.581374943256\n",
      "多慶屋: 0.581199526787\n",
      "ROHTO: 0.577115476131\n",
      "秋田: 0.574428200722\n",
      "六縣: 0.571156740189\n",
      "西松屋: 0.565577447414\n",
      "宮城: 0.56554210186\n",
      "熊本: 0.561743199825\n",
      "藥妝: 0.558844923973\n",
      "迷必: 0.558785319328\n",
      "Lindt: 0.557008624077\n",
      "紅到: 0.551583051682\n",
      "來日: 0.549634933472\n",
      "名園: 0.548177778721\n",
      "生活用品: 0.546034276485\n"
     ]
    }
   ],
   "source": [
    "synonyms = model.findSynonyms('日本', 40)\n",
    "for word, cosine_distance in synonyms:\n",
    "    print(\"{}: {}\".format(word.encode('utf-8'), cosine_distance))"
   ]
  },
  {
   "cell_type": "code",
   "execution_count": 42,
   "metadata": {
    "collapsed": false
   },
   "outputs": [
    {
     "name": "stdout",
     "output_type": "stream",
     "text": [
      "[0.0824998766184,0.0764602683485,0.106721576303,-0.0402813404799,-0.0134526286274,0.148135002702,-0.117466531694,-0.193927217275,-0.0394423110411,0.0424485960975,0.122093018144,0.0980766415596,-0.160347394645,0.0889801606536,0.0173447027337,-0.00240844773361,0.00283363554627,-0.0150164570659,0.12119936198,-0.0117972644512,-0.0235109762289,-0.0505449373741,-0.13790281117,-0.000589760020375,0.27543515712,-0.0591896399856,0.125683009624,0.0328166401014,0.0258852597326,-0.12741198577,0.079870980233,-0.0848483964801,0.158646248281,0.143473055214,0.0514635872096,-0.108190666884,0.088060496375,-0.08087849617,0.0361494775862,-0.229513712227,-0.00161579065025,0.0909118913114,-0.020662390627,0.0683678165078,-0.173044800758,-0.0880868732929,0.0534505993128,0.174578561913,-0.0392414056696,0.0873552446719,-0.111469971016,0.0224780710414,0.18195034191,0.0515971062705,-0.00376407708973,-0.0318333171308,-0.141472123563,0.0401187438983,-0.0541465589777,0.250622540712,-0.100603586063,-0.0930351223797,-0.235600024462,-0.0915171355009,-0.124653052539,-0.0522879101336,-0.165132176131,0.113573313691,-0.154682770371,0.093320672866,0.0242705044802,0.0154369003139,-0.0653260238469,0.112051552162,0.0189716909081,-0.241274118423,-0.0278489682823,0.0890243090689,0.0747543163598,-0.0585087202489,0.109927486628,-0.0781400573906,-0.0351474108174,0.264229740947,0.0517102275044,0.00212564598769,0.00229223025963,0.141046442091,-0.100831776857,0.162476070225,0.173304755241,-0.0949091408402,-0.0575663950294,0.0366996303201,0.227866277099,0.19390553236,0.0639210045338,0.136460244656,0.184733584523,0.0856538191438]\n",
      "日本: 0.861723780632\n",
      "大阪必買: 0.759894549847\n",
      "伴手: 0.726880192757\n",
      "力買: 0.725839018822\n",
      "戰利品: 0.725467205048\n",
      "好買: 0.714004278183\n",
      "藥妝: 0.701086580753\n",
      "餐廚: 0.681568264961\n",
      "零食: 0.675597429276\n",
      "日本藥妝: 0.674340069294\n",
      "motherways: 0.659233152866\n",
      "Manufaktura: 0.652184426785\n",
      "東京: 0.645756900311\n",
      "蔓菲蘿: 0.642786920071\n",
      "必逛: 0.639821827412\n",
      "禮之一: 0.638234317303\n",
      "鐵鑄: 0.634722232819\n",
      "的蕾莉歐: 0.634293615818\n",
      "日本自由行: 0.624607682228\n",
      "東京必買: 0.622758924961\n",
      "二木: 0.622408390045\n",
      "上野: 0.621679544449\n",
      "失心: 0.620700895786\n",
      "擺滿床: 0.619669318199\n",
      "超市: 0.614484488964\n",
      "樂敦: 0.612153887749\n",
      "大比拼: 0.612058699131\n",
      "禮的: 0.610864758492\n",
      "必去: 0.609812498093\n",
      "Akihabara: 0.609295845032\n",
      "千趣: 0.604537129402\n",
      "買藥妝: 0.599369049072\n",
      "院必遊: 0.596491932869\n",
      "多慶屋: 0.595950603485\n",
      "之倉: 0.59281617403\n",
      "Day8: 0.587046265602\n",
      "北谷店: 0.585330605507\n",
      "秋田: 0.58326536417\n",
      "東京自由行: 0.582763493061\n",
      "ROYCE: 0.581780254841\n"
     ]
    }
   ],
   "source": [
    "be = (model.transform('日本') + model.transform('必買') )/4\n",
    "print be\n",
    "synonyms = model.findSynonyms(be,40)\n",
    "for word, cosine_distance in synonyms:\n",
    "    print(\"{}: {}\".format(word.encode('utf-8'), cosine_distance))"
   ]
  },
  {
   "cell_type": "code",
   "execution_count": null,
   "metadata": {
    "collapsed": true
   },
   "outputs": [],
   "source": []
  },
  {
   "cell_type": "code",
   "execution_count": null,
   "metadata": {
    "collapsed": true
   },
   "outputs": [],
   "source": []
  }
 ],
 "metadata": {
  "kernelspec": {
   "display_name": "Python 2",
   "language": "python",
   "name": "python2"
  },
  "language_info": {
   "codemirror_mode": {
    "name": "ipython",
    "version": 2
   },
   "file_extension": ".py",
   "mimetype": "text/x-python",
   "name": "python",
   "nbconvert_exporter": "python",
   "pygments_lexer": "ipython2",
   "version": "2.7.3"
  }
 },
 "nbformat": 4,
 "nbformat_minor": 0
}
