{
 "cells": [
  {
   "cell_type": "code",
   "execution_count": 4,
   "metadata": {
    "collapsed": false
   },
   "outputs": [],
   "source": [
    "from gensim import corpora, models \n",
    "# inp = sc.textFile('./data/new_parsed_no_spam.txt').map(lambda row: row.split(\" \"))\n",
    "# word2vec = Word2Vec()\n",
    "# model = word2vec.fit(inp)\n",
    "class MySentences(object):\n",
    "    def __init__(self, fname):\n",
    "        self.fname = fname\n",
    "    def __iter__(self):\n",
    "#         for fname in os.listdir(self.dirname):\n",
    "            for line in open(os.path.join(self.fname)):\n",
    "                yield line.split()\n",
    "sentences = MySentences('./data/new_parsed_no_spam.txt') # a memory-friendly iterator\n",
    "model = models.Word2Vec(sentences)"
   ]
  },
  {
   "cell_type": "code",
   "execution_count": 5,
   "metadata": {
    "collapsed": false
   },
   "outputs": [
    {
     "name": "stdout",
     "output_type": "stream",
     "text": [
      "手拿 0.643935918808\n"
     ]
    }
   ],
   "source": [
    "word , score = model.most_similar(positive=['台北', '好玩'], negative=['高雄'], topn=1)[0]\n",
    "print word ,score"
   ]
  },
  {
   "cell_type": "code",
   "execution_count": 6,
   "metadata": {
    "collapsed": false
   },
   "outputs": [
    {
     "ename": "SyntaxError",
     "evalue": "invalid syntax (<ipython-input-6-254ecc99c29e>, line 7)",
     "output_type": "error",
     "traceback": [
      "\u001b[1;36m  File \u001b[1;32m\"<ipython-input-6-254ecc99c29e>\"\u001b[1;36m, line \u001b[1;32m7\u001b[0m\n\u001b[1;33m    yield LabeledSentence(words=line.split(), ,labels=['SENT_%s' % uid])\u001b[0m\n\u001b[1;37m                                              ^\u001b[0m\n\u001b[1;31mSyntaxError\u001b[0m\u001b[1;31m:\u001b[0m invalid syntax\n"
     ]
    }
   ],
   "source": [
    "from gensim.models.doc2vec import LabeledSentence\n",
    "class LabeledLineSentence(object):\n",
    "    def __init__(self, filename):\n",
    "        self.filename = filename\n",
    "    def __iter__(self):\n",
    "        for uid, line in enumerate(open(self.filename)):\n",
    "            yield LabeledSentence(words=line.split(), ,labels=['SENT_%s' % uid])\n",
    "            \n",
    "labeledLineSentence = LabeledLineSentence('./data/new_parsed_no_spam.txt') # a memory-friendly iterator\n",
    "docmodel = models.Doc2Vec(labeledLineSentence, size=100, window=8, min_count=5, workers=4)"
   ]
  },
  {
   "cell_type": "code",
   "execution_count": 17,
   "metadata": {
    "collapsed": true
   },
   "outputs": [],
   "source": [
    "docmodel.save('./data/my_model.doc2vec')"
   ]
  },
  {
   "cell_type": "code",
   "execution_count": 18,
   "metadata": {
    "collapsed": true
   },
   "outputs": [],
   "source": [
    "model.save('./data/model.doc2vec')"
   ]
  },
  {
   "cell_type": "code",
   "execution_count": 24,
   "metadata": {
    "collapsed": false
   },
   "outputs": [
    {
     "name": "stdout",
     "output_type": "stream",
     "text": [
      "洗染 0.845958471298\n",
      "餐飲業 0.839558362961\n",
      "洗衣 0.831826210022\n",
      "展店 0.820595145226\n",
      "knowhow 0.819600582123\n",
      "管理模式 0.807650923729\n",
      "扯上 0.804563522339\n",
      "節日 0.801911354065\n",
      "不彰 0.795998036861\n",
      "授課 0.791624903679\n"
     ]
    }
   ],
   "source": [
    "slist = model.most_similar(\"商家\")\n",
    "for word , score in slist :\n",
    "    print word , score"
   ]
  },
  {
   "cell_type": "code",
   "execution_count": null,
   "metadata": {
    "collapsed": true
   },
   "outputs": [],
   "source": []
  }
 ],
 "metadata": {
  "kernelspec": {
   "display_name": "Python 2",
   "language": "python",
   "name": "python2"
  },
  "language_info": {
   "codemirror_mode": {
    "name": "ipython",
    "version": 2
   },
   "file_extension": ".py",
   "mimetype": "text/x-python",
   "name": "python",
   "nbconvert_exporter": "python",
   "pygments_lexer": "ipython2",
   "version": "2.7.3"
  }
 },
 "nbformat": 4,
 "nbformat_minor": 0
}
