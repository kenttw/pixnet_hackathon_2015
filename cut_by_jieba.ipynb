{
 "cells": [
  {
   "cell_type": "code",
   "execution_count": null,
   "metadata": {
    "collapsed": false
   },
   "outputs": [],
   "source": [
    "from bs4 import BeautifulSoup\n",
    "import jieba ,util\n",
    "import csv ,json\n",
    "jieba.load_userdict(\"./new.dict_all\")\n",
    "stop_words = util.load_stop_words('stopword.txt')\n",
    "count = 0\n",
    "\n",
    "import csv\n",
    "with open('./data/201505201506_non_spam.csv', 'rb') as csvfile:\n",
    "    reader = csv.DictReader(csvfile,quoting=csv.QUOTE_NONE)\n",
    "    fw = open('./data/new_parsed_no_spam.txt','w')\n",
    "\n",
    "    for row in reader:\n",
    "        soup = BeautifulSoup(row['content'])\n",
    "        items = ''\n",
    "        fw.write(str(count) + ':              ')\n",
    "        for item in jieba.cut(soup.getText()) :\n",
    "            if len(item) < 2 or item in stop_words: continue\n",
    "            else : \n",
    "                items = items + item.replace('\\n', ' ').replace('\\r', '') + ' '\n",
    "                \n",
    "        fw.write(items.encode('utf-8') + ' ')\n",
    "        fw.write('\\r\\n')\n",
    "        count = count + 1\n",
    "#         print count , \n",
    "        \n",
    "        \n",
    "\n"
   ]
  },
  {
   "cell_type": "code",
   "execution_count": null,
   "metadata": {
    "collapsed": false
   },
   "outputs": [],
   "source": []
  },
  {
   "cell_type": "code",
   "execution_count": null,
   "metadata": {
    "collapsed": true
   },
   "outputs": [],
   "source": []
  }
 ],
 "metadata": {
  "kernelspec": {
   "display_name": "Python 2",
   "language": "python",
   "name": "python2"
  },
  "language_info": {
   "codemirror_mode": {
    "name": "ipython",
    "version": 2
   },
   "file_extension": ".py",
   "mimetype": "text/x-python",
   "name": "python",
   "nbconvert_exporter": "python",
   "pygments_lexer": "ipython2",
   "version": "2.7.3"
  }
 },
 "nbformat": 4,
 "nbformat_minor": 0
}
